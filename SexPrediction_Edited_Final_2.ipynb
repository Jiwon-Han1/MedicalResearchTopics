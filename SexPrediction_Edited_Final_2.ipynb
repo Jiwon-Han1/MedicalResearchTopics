{
 "cells": [
  {
   "cell_type": "markdown",
   "metadata": {},
   "source": [
    "# Sex Prediction\n",
    "Total data size is n=500 from UK Biobank, consisting of Structural, resting state functional, and diffusion-weighted MRI with Demographic information. \n",
    "\n",
    "Each dataset, train and test, includes 'Images' and matched 'Features'; \n",
    "- Grey Matter Map (GM)\n",
    "- White Matter Map (WM)\n",
    "- Fractional Anisotropy Map (FA)\n",
    "- Mean Diffusivity Map (MD)\n",
    "\n",
    "\n",
    "&rarr; Goal: Predict the given subject's sex."
   ]
  },
  {
   "cell_type": "markdown",
   "metadata": {},
   "source": [
    "### Import Modules & Basic Settings"
   ]
  },
  {
   "cell_type": "code",
   "execution_count": 1,
   "metadata": {},
   "outputs": [],
   "source": [
    "# %pip install torch==1.10.2+cu113 torchvision==0.11.3+cu113 torchaudio==0.10.2+cu113 -f https://download.pytorch.org/whl/torch_stable.html"
   ]
  },
  {
   "cell_type": "code",
   "execution_count": 2,
   "metadata": {},
   "outputs": [],
   "source": [
    "import os, time\n",
    "import logging\n",
    "\n",
    "import numpy as np\n",
    "import matplotlib.pyplot as plt\n",
    "import pandas as pd\n",
    "\n",
    "import torch\n",
    "import torch.nn as nn\n",
    "from torch.utils.data import Dataset, DataLoader\n",
    "\n",
    "from sklearn.model_selection import train_test_split\n",
    "from torchmetrics import Accuracy\n",
    "\n",
    "import nibabel as nib\n",
    "from nilearn import plotting\n",
    "import nilearn.image as nli\n",
    "\n",
    "import shap\n",
    "\n",
    "import warnings\n",
    "warnings.filterwarnings('ignore')"
   ]
  },
  {
   "cell_type": "markdown",
   "metadata": {},
   "source": [
    "### Set Options"
   ]
  },
  {
   "cell_type": "code",
   "execution_count": 3,
   "metadata": {},
   "outputs": [
    {
     "name": "stdout",
     "output_type": "stream",
     "text": [
      "Device: cuda:0\n",
      "/home/jiwon/MedicalBioResearch/Prediction_Sex\n"
     ]
    }
   ],
   "source": [
    "# GPU Setting\n",
    "torch.cuda.set_device(0)\n",
    "device = \"cuda:0\" if torch.cuda.is_available() else \"cpu\"\n",
    "print('Device:', device)\n",
    "\n",
    "# Base Directory\n",
    "root_dir = '/home/jiwon/MedicalBioResearch/Prediction_Sex/'\n",
    "os.chdir(root_dir)\n",
    "print(os.getcwd())\n",
    "\n",
    "# Path to Data\n",
    "image_data = 'data/images/'\n",
    "train_data_path = root_dir+image_data+'train/'\n",
    "test_data_path = root_dir+image_data+'test/'\n",
    "\n",
    "# Selected Modalities\n",
    "modalities = [\"GM\", \"WM\"]#, \"MD\", \"FA\"]\n",
    "additional_variables = [\"Sex\", \"Age\"]"
   ]
  },
  {
   "cell_type": "code",
   "execution_count": 4,
   "metadata": {},
   "outputs": [],
   "source": [
    "# Hyper-Parameters Setting\n",
    "criterion = torch.nn.CrossEntropyLoss()\n",
    "batch_size = 4\n",
    "max_epochs = 100\n",
    "learning_rate = 1e-4\n",
    "weight_decay = 1e-5\n",
    "val_interval = 1"
   ]
  },
  {
   "cell_type": "markdown",
   "metadata": {},
   "source": [
    "### Load Train Data"
   ]
  },
  {
   "cell_type": "code",
   "execution_count": 5,
   "metadata": {},
   "outputs": [],
   "source": [
    "# Data Transform\n",
    "class ToTensor3D:\n",
    "    def __call__(self, image):\n",
    "        return torch.from_numpy(image).float()\n",
    "\n",
    "class Normalize3D:\n",
    "    def __init__(self, mean, std):\n",
    "        self.mean = mean\n",
    "        self.std = std\n",
    "\n",
    "    def __call__(self, tensor):\n",
    "        for t, m, s in zip(tensor, self.mean, self.std):\n",
    "            t.sub_(m).div_(s)\n",
    "        return tensor\n",
    "\n",
    "mean = [0.5] * len(modalities) \n",
    "std = [0.5] * len(modalities) \n",
    "\n",
    "from torchvision import transforms\n",
    "transform = transforms.Compose([\n",
    "    ToTensor3D(),\n",
    "    Normalize3D(mean, std)\n",
    "])"
   ]
  },
  {
   "cell_type": "code",
   "execution_count": 6,
   "metadata": {},
   "outputs": [],
   "source": [
    "class CustomDataset(Dataset):\n",
    "    def __init__(self, data, modalities, additional_variables, transform=None, inference=False):\n",
    "        self.data = data\n",
    "        self.modalities = modalities\n",
    "        self.additional_variables = additional_variables\n",
    "        self.transform = transform\n",
    "        self.inference = inference\n",
    "\n",
    "    def __len__(self):\n",
    "        return len(self.data)\n",
    "\n",
    "    def __getitem__(self, idx):\n",
    "        sample = self.data[idx]\n",
    "        images = []\n",
    "\n",
    "        for modality in self.modalities:\n",
    "            image_path = sample[modality]\n",
    "            image = nib.load(image_path).get_fdata()\n",
    "            image = np.expand_dims(image, axis=0)  # Add channel dimension\n",
    "            if self.transform:\n",
    "                image = self.transform(image)\n",
    "            images.append(image)    # (3, 79, 95, 79)\n",
    "\n",
    "        images = np.concatenate(images, axis=0)\n",
    "        images = torch.tensor(images, dtype=torch.float32)\n",
    "\n",
    "        additional_data = []\n",
    "        for var in self.additional_variables:\n",
    "            if var != 'Sex':\n",
    "                additional_data.append(sample[var])\n",
    "        additional_data = torch.tensor(additional_data, dtype=torch.float32)\n",
    "\n",
    "        if self.inference:\n",
    "            return images, additional_data\n",
    "        else:\n",
    "            sex = torch.tensor(sample['Sex'], dtype=torch.long)\n",
    "            return images, additional_data, sex"
   ]
  },
  {
   "cell_type": "code",
   "execution_count": 7,
   "metadata": {},
   "outputs": [
    {
     "name": "stdout",
     "output_type": "stream",
     "text": [
      "   ID  Sex  Age\n",
      "0   1    1   55\n",
      "1   2    0   54\n",
      "2   3    1   54\n",
      "3   4    1   55\n",
      "4   5    1   57\n"
     ]
    }
   ],
   "source": [
    "# Load Data (Train)\n",
    "train_df = pd.read_csv(os.path.join(train_data_path, 'Subjects.csv'))\n",
    "print(train_df.head())\n",
    "train_subjects = train_df['ID'].to_numpy()\n",
    "train_data_dicts = []\n",
    "\n",
    "for index, subject in enumerate(train_subjects):\n",
    "    subject_dict = {}\n",
    "    for modality in modalities:\n",
    "        subject_dict[modality] = os.path.join(train_data_path, modality, f\"{subject:03d}.nii.gz\")\n",
    "    for variable in additional_variables:\n",
    "        subject_dict[variable] = train_df[variable].to_numpy()[index]\n",
    "    train_data_dicts.append(subject_dict)\n",
    "\n",
    "# Convert the Format of Dictionary to Split the Dataset \n",
    "train_data_df = pd.DataFrame(train_data_dicts)\n",
    "train_data, val_data = train_test_split(train_data_df, test_size=0.2, random_state=42)\n",
    "train_data_dicts, val_data_dicts = train_data.to_dict('records'), val_data.to_dict('records')\n",
    "\n",
    "train_dataset = CustomDataset(train_data_dicts, modalities, additional_variables, transform=transform)\n",
    "val_dataset = CustomDataset(val_data_dicts, modalities, additional_variables, transform=transform)\n",
    "\n",
    "# Define Data Loader\n",
    "train_loader = DataLoader(train_dataset, batch_size=batch_size, shuffle=True, num_workers=0, pin_memory=torch.cuda.is_available())\n",
    "val_loader = DataLoader(val_dataset, batch_size=batch_size, num_workers=0, pin_memory=torch.cuda.is_available())"
   ]
  },
  {
   "cell_type": "code",
   "execution_count": 8,
   "metadata": {},
   "outputs": [
    {
     "name": "stdout",
     "output_type": "stream",
     "text": [
      "torch.Size([2, 79, 95, 79])\n"
     ]
    }
   ],
   "source": [
    "# Exract First Batch\n",
    "tr_batch_first = next(iter(train_dataset))\n",
    "print(tr_batch_first[0].shape)"
   ]
  },
  {
   "cell_type": "code",
   "execution_count": 9,
   "metadata": {},
   "outputs": [
    {
     "data": {
      "image/png": "[encoded data removed]",
      "text/plain": [
       "<Figure size 800x500 with 2 Axes>"
      ]
     },
     "metadata": {},
     "output_type": "display_data"
    }
   ],
   "source": [
    "# Visualize\n",
    "fig, axes = plt.subplots(1, len(modalities), figsize=(len(modalities) * 4, 5))\n",
    "for i, key in enumerate(modalities):\n",
    "    image = tr_batch_first[0][i]\n",
    "    image_2d = np.squeeze(image[:, :, image.shape[2] // 2])\n",
    "    axes[i].imshow(np.rot90(image_2d), cmap='gray')\n",
    "    axes[i].set_title(key)\n",
    "    axes[i].axis('off')\n",
    "plt.tight_layout()\n",
    "plt.show()"
   ]
  },
  {
   "cell_type": "markdown",
   "metadata": {},
   "source": [
    "### Model"
   ]
  },
  {
   "cell_type": "code",
   "execution_count": 10,
   "metadata": {},
   "outputs": [],
   "source": [
    "class CustomRegressor(nn.Module):\n",
    "    ### Confirm Params\n",
    "    def __init__(self, input_channels=3, additional_features=1, out_features=2):\n",
    "        super(CustomRegressor, self).__init__()\n",
    "        self.conv_layers = nn.Sequential(\n",
    "            nn.Conv3d(input_channels, 16, kernel_size=3, stride=2, padding=1), # input: 79x95x79\n",
    "            nn.ReLU(),\n",
    "            nn.Conv3d(16, 32, kernel_size=3, stride=2, padding=1), # input: 40x48x40\n",
    "            nn.ReLU(),\n",
    "            nn.Conv3d(32, 64, kernel_size=3, stride=2, padding=1), # input: 20x24x20\n",
    "            nn.ReLU(),\n",
    "            nn.Conv3d(64, 128, kernel_size=3, stride=2, padding=1), # input: 10x12x10\n",
    "            nn.ReLU(),\n",
    "            nn.Conv3d(128, 256, kernel_size=3, stride=2, padding=1), # input: 5x6x5 --> output: 2x3x2\n",
    "            nn.ReLU()\n",
    "        )\n",
    "        self.fc_layers = nn.Sequential(\n",
    "            nn.Linear(256 * 3 * 3 * 3 + additional_features, 64),\n",
    "            nn.ReLU(),\n",
    "            nn.Dropout(0.2),\n",
    "            nn.Linear(64, out_features)\n",
    "        )\n",
    "\n",
    "    def forward(self, x, y):\n",
    "        x = self.conv_layers(x)\n",
    "        x = x.view(x.size(0), -1)  # Flatten the tensor\n",
    "        x = torch.cat((x, y), dim=1)\n",
    "        x = self.fc_layers(x)\n",
    "        return x"
   ]
  },
  {
   "cell_type": "code",
   "execution_count": 11,
   "metadata": {},
   "outputs": [],
   "source": [
    "# Model, Optimizer, and Scheduler Setup\n",
    "model = CustomRegressor(input_channels=len(modalities), additional_features=1, out_features=2).to(device)\n",
    "optimizer = torch.optim.Adam(model.parameters(), lr=learning_rate, weight_decay=weight_decay)\n",
    "lr_scheduler = torch.optim.lr_scheduler.CosineAnnealingLR(optimizer, T_max=max_epochs)"
   ]
  },
  {
   "cell_type": "code",
   "execution_count": 12,
   "metadata": {},
   "outputs": [
    {
     "name": "stdout",
     "output_type": "stream",
     "text": [
      "Device: cuda:0\n",
      "True\n"
     ]
    }
   ],
   "source": [
    "print('Device:', device)\n",
    "print(torch.cuda.is_available())"
   ]
  },
  {
   "cell_type": "code",
   "execution_count": 13,
   "metadata": {},
   "outputs": [
    {
     "name": "stdout",
     "output_type": "stream",
     "text": [
      "Epoch 1/20, Loss: 0.6977, Accuracy: 0.5250 (89 sec)\n",
      "Validation Accuracy: 0.4444\n",
      "Epoch 2/20, Loss: 0.6986, Accuracy: 0.4833 (110 sec)\n",
      "Validation Accuracy: 0.4444\n",
      "Epoch 3/20, Loss: 0.6793, Accuracy: 0.5861 (109 sec)\n",
      "Validation Accuracy: 0.4444\n",
      "Epoch 4/20, Loss: 0.5576, Accuracy: 0.8000 (113 sec)\n",
      "Validation Accuracy: 0.8444\n",
      "Epoch 5/20, Loss: 0.2250, Accuracy: 0.9361 (110 sec)\n",
      "Validation Accuracy: 0.7333\n",
      "Epoch 6/20, Loss: 0.0631, Accuracy: 0.9861 (115 sec)\n",
      "Validation Accuracy: 0.7444\n",
      "Epoch 7/20, Loss: 0.0152, Accuracy: 1.0000 (111 sec)\n",
      "Validation Accuracy: 0.8778\n",
      "Epoch 8/20, Loss: 0.0068, Accuracy: 1.0000 (117 sec)\n",
      "Validation Accuracy: 0.8889\n",
      "Epoch 9/20, Loss: 0.0030, Accuracy: 1.0000 (113 sec)\n",
      "Validation Accuracy: 0.8889\n",
      "Epoch 10/20, Loss: 0.0028, Accuracy: 1.0000 (114 sec)\n",
      "Validation Accuracy: 0.9000\n",
      "Epoch 11/20, Loss: 0.0014, Accuracy: 1.0000 (109 sec)\n",
      "Validation Accuracy: 0.9000\n",
      "Epoch 12/20, Loss: 0.0010, Accuracy: 1.0000 (93 sec)\n",
      "Validation Accuracy: 0.9000\n",
      "Epoch 13/20, Loss: 0.0007, Accuracy: 1.0000 (81 sec)\n",
      "Validation Accuracy: 0.9000\n",
      "Epoch 14/20, Loss: 0.0005, Accuracy: 1.0000 (76 sec)\n",
      "Validation Accuracy: 0.8889\n",
      "Epoch 15/20, Loss: 0.0004, Accuracy: 1.0000 (84 sec)\n",
      "Validation Accuracy: 0.9000\n",
      "Epoch 16/20, Loss: 0.0005, Accuracy: 1.0000 (83 sec)\n",
      "Validation Accuracy: 0.8889\n",
      "Epoch 17/20, Loss: 0.0003, Accuracy: 1.0000 (77 sec)\n",
      "Validation Accuracy: 0.8778\n",
      "Epoch 18/20, Loss: 0.0004, Accuracy: 1.0000 (81 sec)\n",
      "Validation Accuracy: 0.8889\n",
      "Epoch 19/20, Loss: 0.0002, Accuracy: 1.0000 (80 sec)\n",
      "Validation Accuracy: 0.8778\n",
      "Epoch 20/20, Loss: 0.0002, Accuracy: 1.0000 (79 sec)\n",
      "Validation Accuracy: 0.8778\n",
      "\n",
      "Best accuracy: 0.900 at epoch 10; Total time consumed: 40 mins 24 sec\n"
     ]
    }
   ],
   "source": [
    "# Training Loop\n",
    "start_time = time.time()\n",
    "best_metric, best_metric_epoch = -1, -1\n",
    "epoch_loss_values, epoch_metric_values, metric_values = [], [], []\n",
    "\n",
    "max_epochs = 20\n",
    "for epoch in range(max_epochs):\n",
    "    model.train()\n",
    "    epoch_loss = 0.0\n",
    "    correct_predictions = 0\n",
    "    total_samples = 0\n",
    "\n",
    "    epoch_start_time = time.time()\n",
    "\n",
    "    for batch_data in train_loader:\n",
    "        optimizer.zero_grad()\n",
    "\n",
    "        images = batch_data[0].to(device)\n",
    "        additional_data = batch_data[1].to(device)\n",
    "        labels = batch_data[2].to(device)\n",
    "\n",
    "        outputs = model(images, additional_data)\n",
    "        loss = criterion(outputs, labels)\n",
    "        loss.backward()\n",
    "        optimizer.step()\n",
    "\n",
    "        epoch_loss += loss.item() * images.size(0)\n",
    "        total_samples += images.size(0)\n",
    "        correct_predictions += (outputs.argmax(dim=1) == labels).sum().item()\n",
    "\n",
    "    epoch_loss /= total_samples\n",
    "    epoch_accuracy = correct_predictions / total_samples\n",
    "\n",
    "    epoch_loss_values.append(epoch_loss)\n",
    "    epoch_metric_values.append(epoch_accuracy)\n",
    "    epoch_time = time.time() - epoch_start_time\n",
    "\n",
    "    print(f'Epoch {epoch+1}/{max_epochs}, Loss: {epoch_loss:.4f}, Accuracy: {epoch_accuracy:.4f} ({int(epoch_time)} sec)')\n",
    "\n",
    "    # Validation\n",
    "    if (epoch + 1) % val_interval == 0:\n",
    "        model.eval()\n",
    "        val_correct_predictions = 0\n",
    "        val_total_samples = 0\n",
    "        with torch.no_grad():\n",
    "\n",
    "            for val_batch_data in val_loader:\n",
    "                val_images = val_batch_data[0].to(device)\n",
    "                val_additional_data = val_batch_data[1].to(device)\n",
    "                val_labels = val_batch_data[2].to(device)\n",
    "\n",
    "                val_outputs = model(val_images, val_additional_data)\n",
    "                val_total_samples += val_labels.size(0)\n",
    "                # _, val_preds = torch.max(val_outputs, 1)\n",
    "                # val_correct_predictions += (val_preds == val_labels).sum().item()\n",
    "                val_correct_predictions += (val_outputs.argmax(dim=1) == val_labels).sum().item()\n",
    "\n",
    "        val_accuracy = val_correct_predictions / val_total_samples\n",
    "        metric_values.append(val_accuracy)\n",
    "        print(f\"Validation Accuracy: {val_accuracy:.4f}\")\n",
    "\n",
    "        if val_accuracy > best_metric:\n",
    "            best_metric = val_accuracy\n",
    "            best_metric_epoch = epoch + 1\n",
    "            best_model_wts = model.state_dict()\n",
    "            logging.info(f\"Best accuracy: {best_metric:.4f} at epoch {best_metric_epoch}\")\n",
    "\n",
    "    lr_scheduler.step()\n",
    "\n",
    "    epoch_end_time = time.time()\n",
    "    logging.info(f\"Epoch {epoch + 1} computed for {(epoch_end_time - epoch_start_time)/60:.2f} mins - Training loss: {epoch_loss:.4f}, Training accuracy: {epoch_accuracy:.4f}, Validation accuracy: {val_accuracy:.4f}\")\n",
    "\n",
    "end_time = time.time()\n",
    "total_time = int(end_time - start_time)\n",
    "\n",
    "torch.save(best_model_wts, os.path.join(root_dir, \"BestMetricModel_Edited_2.pth\"))\n",
    "logging.info(f\"Best accuracy: {best_metric:.3f} at epoch {best_metric_epoch}; Total time consumed: {total_time//60} mins {total_time%60} sec\")\n",
    "\n",
    "print()\n",
    "print(f\"Best accuracy: {best_metric:.3f} at epoch {best_metric_epoch}; Total time consumed: {total_time//60} mins {total_time%60} sec\")"
   ]
  },
  {
   "cell_type": "code",
   "execution_count": 14,
   "metadata": {},
   "outputs": [
    {
     "data": {
      "image/png": "[encoded data removed]",
      "text/plain": [
       "<Figure size 1200x600 with 2 Axes>"
      ]
     },
     "metadata": {},
     "output_type": "display_data"
    }
   ],
   "source": [
    "# Plotting the Results\n",
    "fig, axes = plt.subplots(1, 2, figsize=(12,6))\n",
    "axes[0].set_title('Training Loss')\n",
    "axes[0].set_xlabel('Epoch')\n",
    "axes[0].set_ylabel('Loss')\n",
    "axes[0].set_xticks(np.linspace(0,1,5)*len(epoch_metric_values))\n",
    "axes[0].plot([i + 1 for i in range(len(epoch_loss_values))], epoch_loss_values, label='Training Loss', color='blue')\n",
    "axes[0].legend()\n",
    "\n",
    "axes[1].set_title('Training accuracy vs. Validation accuracy')\n",
    "axes[1].set_xlabel('Epoch')\n",
    "axes[1].set_ylabel('Accuracy')\n",
    "axes[1].set_xticks(np.linspace(0,1,5)*len(epoch_metric_values))\n",
    "axes[1].plot([i + 1 for i in range(len(epoch_metric_values))], epoch_metric_values, label='Training MAE', color='blue')\n",
    "axes[1].plot([val_interval * (i + 1) for i in range(len(metric_values))], metric_values, label='Validation MAE', color='red')\n",
    "axes[1].legend()\n",
    "\n",
    "plt.tight_layout()\n",
    "plt.savefig(os.path.join(root_dir, \"Performance_2.png\"), dpi=300)\n"
   ]
  },
  {
   "cell_type": "markdown",
   "metadata": {},
   "source": [
    "### Load Test Data"
   ]
  },
  {
   "cell_type": "code",
   "execution_count": 17,
   "metadata": {},
   "outputs": [
    {
     "name": "stdout",
     "output_type": "stream",
     "text": [
      "   ID  Age\n",
      "0   1   55\n",
      "1   2   55\n",
      "2   3   56\n",
      "3   4   58\n",
      "4   5   57\n"
     ]
    }
   ],
   "source": [
    "### Load Data (Test)\n",
    "test_df = pd.read_csv(os.path.join(test_data_path, 'Subjects.csv'))\n",
    "print(test_df.head())\n",
    "test_subjects = test_df['ID'].to_numpy()\n",
    "test_data_dicts = []\n",
    "\n",
    "for index, subject in enumerate(test_subjects):\n",
    "    subject_dict = {}\n",
    "    for modality in modalities:\n",
    "        subject_dict[modality] = os.path.join(test_data_path, modality, f\"{subject:03d}.nii.gz\")\n",
    "    subject_dict[\"Age\"] = test_df[\"Age\"].to_numpy()[index]\n",
    "    test_data_dicts.append(subject_dict)\n",
    "\n",
    "test_dataset = CustomDataset(test_data_dicts, modalities, additional_variables, transform=transform, inference=True)\n",
    "test_loader = DataLoader(test_dataset, batch_size=batch_size, num_workers=0, pin_memory=torch.cuda.is_available())"
   ]
  },
  {
   "cell_type": "markdown",
   "metadata": {},
   "source": [
    "### Inference"
   ]
  },
  {
   "cell_type": "code",
   "execution_count": 20,
   "metadata": {},
   "outputs": [
    {
     "name": "stdout",
     "output_type": "stream",
     "text": [
      "   ID  Age  Predicted_Sex\n",
      "0   1   55              1\n",
      "1   2   55              0\n",
      "2   3   56              1\n",
      "3   4   58              1\n",
      "4   5   57              1\n",
      "5   6   55              0\n",
      "6   7   54              1\n",
      "7   8   58              0\n",
      "8   9   57              1\n",
      "9  10   56              1\n"
     ]
    }
   ],
   "source": [
    "# Inference\n",
    "model.load_state_dict(torch.load(os.path.join(root_dir, \"BestMetricModel_Edited_2.pth\")))\n",
    "model.eval()\n",
    "predictions = []\n",
    "with torch.no_grad():\n",
    "\n",
    "    for test_batch_data in test_loader:\n",
    "        test_images = test_batch_data[0].to(device)\n",
    "        test_additional_data = test_batch_data[1].to(device)\n",
    "\n",
    "        test_outputs = model(test_images, test_additional_data)\n",
    "        _, test_preds = torch.max(test_outputs, 1)\n",
    "        predictions.extend(test_preds.cpu().numpy())\n",
    "\n",
    "# Convert predictions to DataFrame\n",
    "np.savetxt(os.path.join(root_dir, \"Predictions_2.txt\"), predictions)\n",
    "test_df['Predicted_Sex'] = predictions\n",
    "print(test_df.head(10))"
   ]
  },
  {
   "cell_type": "code",
   "execution_count": 19,
   "metadata": {},
   "outputs": [],
   "source": [
    "np.savetxt(os.path.join(root_dir, \"Loss_train_2.txt\"), epoch_loss_values)\n",
    "np.savetxt(os.path.join(root_dir, \"Acc_train_2.txt\"), epoch_metric_values)\n",
    "np.savetxt(os.path.join(root_dir, \"Acc_val_2.txt\"), metric_values)"
   ]
  },
  {
   "cell_type": "markdown",
   "metadata": {},
   "source": []
  }
 ],
 "metadata": {
  "kernelspec": {
   "display_name": "python3",
   "language": "python",
   "name": "python3"
  },
  "language_info": {
   "codemirror_mode": {
    "name": "ipython",
    "version": 3
   },
   "file_extension": ".py",
   "mimetype": "text/x-python",
   "name": "python",
   "nbconvert_exporter": "python",
   "pygments_lexer": "ipython3",
   "version": "3.8.19"
  }
 },
 "nbformat": 4,
 "nbformat_minor": 2
}
